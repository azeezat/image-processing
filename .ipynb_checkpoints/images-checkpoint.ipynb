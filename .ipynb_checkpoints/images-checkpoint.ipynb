{
 "cells": [
  {
   "cell_type": "code",
   "execution_count": null,
   "id": "5f8b0fdc-8bd2-4059-b4ad-74528618d728",
   "metadata": {},
   "outputs": [],
   "source": [
    "import os\n",
    "import cv2\n",
    "import numpy as np\n",
    "from IPython.display import Image"
   ]
  },
  {
   "cell_type": "code",
   "execution_count": 5,
   "id": "742c3285-bd6c-41a0-9d75-3229003d4b42",
   "metadata": {},
   "outputs": [
    {
     "name": "stdout",
     "output_type": "stream",
     "text": [
      "file:///Users/azeezatraheem/Documents/Codebases/image-processing/my_file.csv\n"
     ]
    }
   ],
   "source": [
    "# Get the current working directory\n",
    "cwd = os.getcwd()\n",
    "\n",
    "# Specify the file name\n",
    "file_name = 'checkerboard_18x18.png'\n",
    "\n",
    "# Construct the file URL\n",
    "file_url = 'file://' + os.path.join(cwd, file_name)\n",
    "\n",
    "print(file_url)"
   ]
  },
  {
   "cell_type": "code",
   "execution_count": null,
   "id": "8c5dace4-b5b4-40cc-b88b-53bfb24bd007",
   "metadata": {},
   "outputs": [],
   "source": [
    "Image(filename=\"Downloads/opencv_bootcamp_assets_NB1/checkerboard_18x18.png\")"
   ]
  },
  {
   "cell_type": "code",
   "execution_count": null,
   "id": "f96f1ed8-d56e-4e1a-be9b-b3459832d3aa",
   "metadata": {},
   "outputs": [],
   "source": [
    "# Read image as gray scale.\n",
    "cb_img = cv2.imread(\"checkerboard_18x18.png\", 0)\n",
    "\n",
    "# Print the image data (pixel values), element of a 2D numpy array.\n",
    "# Each pixel value is 8-bits [0,255]\n",
    "print(cb_img)"
   ]
  },
  {
   "cell_type": "code",
   "execution_count": null,
   "id": "7ed51beb-424d-4302-8e22-69206b6da100",
   "metadata": {},
   "outputs": [],
   "source": []
  }
 ],
 "metadata": {
  "kernelspec": {
   "display_name": "Python 3 (ipykernel)",
   "language": "python",
   "name": "python3"
  },
  "language_info": {
   "codemirror_mode": {
    "name": "ipython",
    "version": 3
   },
   "file_extension": ".py",
   "mimetype": "text/x-python",
   "name": "python",
   "nbconvert_exporter": "python",
   "pygments_lexer": "ipython3",
   "version": "3.12.4"
  }
 },
 "nbformat": 4,
 "nbformat_minor": 5
}
